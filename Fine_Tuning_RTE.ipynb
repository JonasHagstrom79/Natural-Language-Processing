{
  "nbformat": 4,
  "nbformat_minor": 0,
  "metadata": {
    "colab": {
      "provenance": [],
      "authorship_tag": "ABX9TyO2LpggtPXHBMTrf0O2VfIT"
    },
    "kernelspec": {
      "name": "python3",
      "display_name": "Python 3"
    },
    "language_info": {
      "name": "python"
    }
  },
  "cells": [
    {
      "cell_type": "code",
      "execution_count": null,
      "metadata": {
        "id": "yxoS5wXJtXRS"
      },
      "outputs": [],
      "source": [
        "!pip install transformer datasets"
      ]
    },
    {
      "cell_type": "code",
      "source": [
        "from datasets import load_datsets\n",
        "import numpy as np"
      ],
      "metadata": {
        "id": "TPfhEgF7uzJM"
      },
      "execution_count": null,
      "outputs": []
    },
    {
      "cell_type": "code",
      "source": [
        "raw_datasets = load_dataset(\"glue\",\"rte\")"
      ],
      "metadata": {
        "id": "p3iJyJlovBWv"
      },
      "execution_count": null,
      "outputs": []
    }
  ]
}