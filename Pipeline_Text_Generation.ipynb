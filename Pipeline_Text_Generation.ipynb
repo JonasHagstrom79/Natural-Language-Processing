{
  "nbformat": 4,
  "nbformat_minor": 0,
  "metadata": {
    "colab": {
      "provenance": [],
      "authorship_tag": "ABX9TyNvfyFZQAFqQFTCjCsD910M"
    },
    "kernelspec": {
      "name": "python3",
      "display_name": "Python 3"
    },
    "language_info": {
      "name": "python"
    }
  },
  "cells": [
    {
      "cell_type": "code",
      "execution_count": null,
      "metadata": {
        "id": "6FWr16Gq9dsk"
      },
      "outputs": [],
      "source": [
        "# Download dataset\n",
        "!wget -nc https://raw.githubusercontent.com/lazyprogrammer/machine_learning_examples/master/hmm_class/robert_frost.txt"
      ]
    },
    {
      "cell_type": "code",
      "source": [
        "# Install transformers\n",
        "!pip install transformers"
      ],
      "metadata": {
        "id": "vhAPJrYr9tmk"
      },
      "execution_count": null,
      "outputs": []
    },
    {
      "cell_type": "code",
      "source": [
        "# Import needed liberies\n",
        "from transformers import pipeline, set_seed\n",
        "\n",
        "import textwrap\n",
        "import numpy as np\n",
        "import matplotlib.pyplot as plt\n",
        "\n",
        "from pprint import pprint"
      ],
      "metadata": {
        "id": "ZTvBSLB_9zyW"
      },
      "execution_count": null,
      "outputs": []
    },
    {
      "cell_type": "code",
      "source": [
        "# Inspect the data\n",
        "!cat robert_frost.txt"
      ],
      "metadata": {
        "id": "PUgVhk58-Ejs"
      },
      "execution_count": null,
      "outputs": []
    },
    {
      "cell_type": "code",
      "source": [
        "# Stripping off any white space and enpty lines in the file\n",
        "lines = [line.rstrip() for line in open('robert_frost.txt')]\n",
        "lines = [line for line in lines if len(line) > 0 ]"
      ],
      "metadata": {
        "id": "U12wVcC2-Keg"
      },
      "execution_count": null,
      "outputs": []
    },
    {
      "cell_type": "code",
      "source": [
        "# Call function to get text generation\n",
        "gen = pipeline(\"text-generation\")"
      ],
      "metadata": {
        "id": "X330QLNH-eI5"
      },
      "execution_count": null,
      "outputs": []
    },
    {
      "cell_type": "code",
      "source": [
        "# Set seed for transformers libary\n",
        "set_seed(1234)"
      ],
      "metadata": {
        "id": "3TJIrLQ3-lui"
      },
      "execution_count": null,
      "outputs": []
    },
    {
      "cell_type": "code",
      "source": [
        "# Print the first line in the list, we'll ust this as a prompt\n",
        "lines(0)"
      ],
      "metadata": {
        "id": "tlyNJcc6-qbZ"
      },
      "execution_count": null,
      "outputs": []
    },
    {
      "cell_type": "code",
      "source": [
        "# Pass the line in the pipeline to see what we get back\n",
        "gen(lines[0])"
      ],
      "metadata": {
        "id": "GbP3YVkp-s4v"
      },
      "execution_count": null,
      "outputs": []
    },
    {
      "cell_type": "code",
      "source": [
        "# Print the result of the above cell in a more readable format\n",
        "pprint(_)"
      ],
      "metadata": {
        "id": "02cL9oeC_3Nj"
      },
      "execution_count": null,
      "outputs": []
    },
    {
      "cell_type": "code",
      "source": [
        "# Set max lengths to 20 because we are trying to generate poems wich are short\n",
        "pprint(gen(lines[0], max_length=20))"
      ],
      "metadata": {
        "id": "KLxdUr5x_7Jl"
      },
      "execution_count": null,
      "outputs": []
    },
    {
      "cell_type": "code",
      "source": [
        "# Generate multiple samples and choose the best one\n",
        "pprint(gen(lines[0], num_return_sequences=3, max_lenght=20))"
      ],
      "metadata": {
        "id": "0wWA8nixACr7"
      },
      "execution_count": null,
      "outputs": []
    },
    {
      "cell_type": "code",
      "source": [
        "# Try to write a multi-line poem\n",
        "def wrap(x):\n",
        "  return textwrap.fill(x, replace_whitespace=False, fix_scentence_endings=True)"
      ],
      "metadata": {
        "id": "GSENwpaoAObG"
      },
      "execution_count": null,
      "outputs": []
    },
    {
      "cell_type": "code",
      "source": [
        "# \n",
        "out = gen(lines[0], max_length=30)\n",
        "print(wrap(out[0]['generated_text']))"
      ],
      "metadata": {
        "id": "7p_AMHsoBTYT"
      },
      "execution_count": null,
      "outputs": []
    },
    {
      "cell_type": "code",
      "source": [
        "#\n",
        "prev = '' + \\\n",
        "      ''\n",
        "\n",
        "out = gen(prev + '\\n' + lines[2], max_length=60)\n",
        "print(wrap(out[0]['generated_text']))"
      ],
      "metadata": {
        "id": "H9j7SiAIBuyn"
      },
      "execution_count": null,
      "outputs": []
    },
    {
      "cell_type": "code",
      "source": [
        "# \n"
      ],
      "metadata": {
        "id": "su8Qnq2YCM05"
      },
      "execution_count": null,
      "outputs": []
    }
  ]
}