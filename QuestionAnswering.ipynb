{
  "nbformat": 4,
  "nbformat_minor": 0,
  "metadata": {
    "colab": {
      "provenance": [],
      "authorship_tag": "ABX9TyN9yqgQJG7iwKaVl8dHfVzs"
    },
    "kernelspec": {
      "name": "python3",
      "display_name": "Python 3"
    },
    "language_info": {
      "name": "python"
    }
  },
  "cells": [
    {
      "cell_type": "code",
      "execution_count": null,
      "metadata": {
        "id": "OygNAcZsejcP"
      },
      "outputs": [],
      "source": [
        "!pip install transformers datasets"
      ]
    },
    {
      "cell_type": "code",
      "source": [
        "from datasets import load_datasets\n",
        "raw_datasets = load_dataset(\"squad\")\n",
        "raw_datasets"
      ],
      "metadata": {
        "id": "08BbUw6kzCM1"
      },
      "execution_count": null,
      "outputs": []
    },
    {
      "cell_type": "code",
      "source": [
        "raw_datasets[\"train\"][1][\"title\"]"
      ],
      "metadata": {
        "id": "O76m4uTezNwe"
      },
      "execution_count": null,
      "outputs": []
    },
    {
      "cell_type": "code",
      "source": [
        "raw_datasets[\"train\"][1][\"context\"]"
      ],
      "metadata": {
        "id": "0kSsk7bXzUYT"
      },
      "execution_count": null,
      "outputs": []
    },
    {
      "cell_type": "code",
      "source": [
        "raw_datasets[\"train\"][1][\"question\"]"
      ],
      "metadata": {
        "id": "_EgizFoozYrc"
      },
      "execution_count": null,
      "outputs": []
    },
    {
      "cell_type": "code",
      "source": [
        "raw_datasets[\"train\"][1][\"answers\"]"
      ],
      "metadata": {
        "id": "MDzo2KkYzY1X"
      },
      "execution_count": null,
      "outputs": []
    }
  ]
}